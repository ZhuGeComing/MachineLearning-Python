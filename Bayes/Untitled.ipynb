{
 "cells": [
  {
   "cell_type": "code",
   "execution_count": 3,
   "metadata": {
    "collapsed": true
   },
   "outputs": [],
   "source": [
    "import os\n",
    "import sys\n",
    "root_path = os.path.abspath(\"../\")\n",
    "if root_path not in sys.path:\n",
    "    sys.path.append(root_path)\n"
   ]
  },
  {
   "cell_type": "code",
   "execution_count": 8,
   "metadata": {
    "collapsed": false
   },
   "outputs": [],
   "source": [
    "import numpy as np\n",
    "from math import pi, exp\n",
    "from Util.Timing import Timing\n",
    "from Util.Bases import ClassifierBase"
   ]
  },
  {
   "cell_type": "code",
   "execution_count": 9,
   "metadata": {
    "collapsed": false
   },
   "outputs": [
    {
     "data": {
      "text/plain": [
       "2.5066282746310002"
      ]
     },
     "execution_count": 9,
     "metadata": {},
     "output_type": "execute_result"
    }
   ],
   "source": [
    "sqrt_pi = (2*pi)**0.5\n",
    "class NBFunctions:\n",
    "    @staticmethod\n",
    "    def gaussian(x, mu, sigma):\n",
    "        return exp(-(x-mu) ** 2 / (2*sigma**2)) / (sqrt_pi*sigma)\n",
    "    \n",
    "    @staticmethod\n",
    "    def gaussian_maximun_likelihood(labelled_x, n_category, dim):\n",
    "        mu = [np.sum(labelled_x[c][dim]) / len(labelled_x[c][dim]) for c in range(n_category)]\n",
    "        sigma = [np.sum(labelled_x[c][dim] - mu[c]) / len(labelled_x[c][dim]) for c in range(n_category)]\n",
    "        \n",
    "        def func(_c):\n",
    "            def sub(x):\n",
    "                return NBFunctions.gaussian(x, mu[_c], sigma[_c])\n",
    "            return sub\n",
    "        return [func(-c=c) for c in range(n_category)]"
   ]
  }
 ],
 "metadata": {
  "kernelspec": {
   "display_name": "Python 3",
   "language": "python",
   "name": "python3"
  },
  "language_info": {
   "codemirror_mode": {
    "name": "ipython",
    "version": 3
   },
   "file_extension": ".py",
   "mimetype": "text/x-python",
   "name": "python",
   "nbconvert_exporter": "python",
   "pygments_lexer": "ipython3",
   "version": "3.6.0"
  }
 },
 "nbformat": 4,
 "nbformat_minor": 2
}
